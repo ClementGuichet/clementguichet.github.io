{
  "cells": [
    {
      "cell_type": "raw",
      "metadata": {},
      "source": [
        "---\n",
        "title: \"**Diffusion Tensor Imaging (DTI)**\"\n",
        "format: html\n",
        "editor: visual\n",
        "subtitle: A step-by-step guide to DTI preprocessing & SC generation based on MRtrix3\n",
        "---"
      ],
      "id": "d6b08a36"
    },
    {
      "cell_type": "markdown",
      "metadata": {},
      "source": [
        "## Software installation\n",
        "\n",
        "The pipeline revolves around MRtrix3 which works hand in hand with Freesurfer, FSL, and ANTs\n",
        "\n",
        "1.  Download MRtrix3 by copy pasting this command in a bash terminal\n",
        "\n",
        "\n",
        "```{bash}\n",
        "# Clone the MRtrix3 repo\n",
        "git clone https://github.com/MRtrix3/mrtrix3.git\n",
        "# Configure the install\n",
        "cd mrtrix3\n",
        "./configure\n",
        "# Build the binaries\n",
        "./build\n",
        "# Add it to your path\n",
        "./set_path\n",
        "```\n",
        "\n",
        "\n",
        "1.  Download Freesurfer by copy pasting this command in a bash terminal\n",
        "\n",
        "    Make sure to install it into /usr/local\n",
        "\n",
        "2.  Download FSL\n",
        "\n",
        "## Preprocessing\n",
        "\n",
        "## Streamline generation\n",
        "\n",
        "## Recon-all\n",
        "\n",
        "This step can be speed up by using gnu parallel : brew install gcc brew install parallel\n",
        "\n",
        "## Generate Structural connectomes (SC)\n",
        "\n",
        "## Automation\n",
        "\n",
        "Download the script below to run the entire pipeline You may have to adapt it to your system specs (# of logical processors available) and to the size of your cohort"
      ],
      "id": "7461d338"
    }
  ],
  "metadata": {
    "kernelspec": {
      "display_name": "Python 3",
      "language": "python",
      "name": "python3"
    }
  },
  "nbformat": 4,
  "nbformat_minor": 5
}